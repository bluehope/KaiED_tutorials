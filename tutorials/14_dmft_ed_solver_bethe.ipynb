{
 "cells": [
  {
   "cell_type": "code",
   "execution_count": null,
   "id": "6fce4dcd",
   "metadata": {},
   "outputs": [],
   "source": [
    "# ENV[\"PROJECT_PATH_ED\"]=\"../envs/KED\"\n",
    "\n",
    "# include(\"../src/mybase.jl\")\n",
    "using KaiEDJ\n",
    "using KaiEDJ: BenchmarkTools, Optimization, Optim, Plots\n",
    "using DelimitedFiles\n",
    "\n",
    "\n",
    "\n",
    "######## Correlated Orbital Info #########\n",
    "norb    = 1\n",
    "nspin   = 2\n",
    "nspinorb    = norb * nspin\n",
    "\n",
    "# IndOrbUp, IndOrbDn = GetOrbUpDn( nspinorb )\n",
    "IndOrbUp    = [ i for i in 1:2:nspinorb ]\n",
    "IndOrbDn    = [ i for i in 2:2:nspinorb ]\n",
    "\n",
    "\n",
    "######## Imaginary Frequency Green Function Construction #########\n",
    "beta    = 100\n",
    "NImFreq  = 4*beta\n",
    "ImFreqGridVal   = GetImFreqValGrid( beta, NImFreq )\n",
    "ImFreqGrid      = ImFreqGridVal * im\n",
    "# Hybiwup_init  = 1. / 4 * GetGzBetheUniformScaling.( ImFreqGrid )\n",
    "# Hybiwdn_init  = 1. / 4 * GetGzBetheUniformScaling.( ImFreqGrid )\n",
    "D   = 1\n",
    "gbetheiw    = GetGzBetheDim.( ImFreqGrid, nspinorb ; D=D )\n",
    "gbetheiwup  = GetGzBetheUniformScaling.( ImFreqGrid ; D=D )\n",
    "Hybiw       = 1. / 4 * GetGzBetheDim.( ImFreqGrid, nspinorb ; D=D )"
   ]
  },
  {
   "cell_type": "code",
   "execution_count": null,
   "id": "e58e9c38",
   "metadata": {},
   "outputs": [],
   "source": [
    "######## Bath Orbital Info #########\n",
    "nbath   = 6\n",
    "ntot    = nspinorb + nbath\n",
    "dim     = 2^ntot\n",
    "@show dim\n",
    "nbathHalf   = div(nbath,2)\n",
    "# IndBathUp, IndBathDn = GetOrbUpDn( nbath )\n",
    "IndBathUp   = [ i for i in 1:2:nbath ]\n",
    "IndBathDn   = [ i for i in 2:2:nbath ]\n",
    "\n",
    "ebathl     = zeros(nbath)\n",
    "ebathl     = collect(LinRange( -1, 1, nbath ))\n",
    "@show ebathl\n",
    "\n",
    "Vil     = zeros(nspinorb,nbath)\n",
    "for i in 1:nspinorb\n",
    "    for j in 1:nbath\n",
    "        Vil[i,j]    = ebathl[j]\n",
    "    end\n",
    "end\n",
    "println( \"Vil : \" ) ; writedlm(stdout, Vil)"
   ]
  },
  {
   "cell_type": "code",
   "execution_count": null,
   "id": "c39ec50d",
   "metadata": {},
   "outputs": [],
   "source": [
    "######## Bath Discretization Setup (Spin-up/dn) #########\n",
    "ebathlnew, Vilnew   = BathDiscHybSpinPH( ebathl, Vil, Hybiw, ImFreqGrid )"
   ]
  },
  {
   "cell_type": "code",
   "execution_count": null,
   "id": "8175e656",
   "metadata": {},
   "outputs": [],
   "source": [
    "ShowBathParam( ebathlnew, Vilnew )"
   ]
  },
  {
   "cell_type": "code",
   "execution_count": null,
   "id": "76077ad2",
   "metadata": {},
   "outputs": [],
   "source": [
    "######## Setting Up Hamiltonian Operators #########\n",
    "U           = 0\n",
    "JHund       = 0\n",
    "chem        = 0.5*U # 0.5*U for single-band, 2.5*U-5.0*JHund for t2g-multiband\n",
    "opcavec     = [ GetOpBathParam(ebathlnew, Vilnew, ibath->ibath+nspinorb),\n",
    "                GetOpChemPot(chem, nspinorb) ]\n",
    "opccaavec   = [ GetOpUSlaterKanamori( ; U=U, JHund=JHund, norb=norb ) ]\n",
    "# @show typeof(opcavec)\n",
    "# @show typeof(opccaavec)\n",
    "# @show opcavec\n",
    "# @show opccaavec\n",
    "\n",
    "######## Fock/Hilbert Space Construction #########\n",
    "outputlevel = 0\n",
    "\n",
    "######## Searching Ground-sector #########\n",
    "Emin_arr    = SearchGSSector( ntot, opcavec, opccaavec ; outputlevel=1 )"
   ]
  },
  {
   "cell_type": "code",
   "execution_count": null,
   "id": "ffb85446",
   "metadata": {},
   "outputs": [],
   "source": [
    "@show Emin_arr"
   ]
  },
  {
   "cell_type": "code",
   "execution_count": null,
   "id": "9bd7f8b7",
   "metadata": {},
   "outputs": [],
   "source": [
    "######## Choosing Ground-sectors #########\n",
    "# IndGSSector = [ [ isector, e0, boltzweight ] ]\n",
    "iGSSector   = argmin(Emin_arr)"
   ]
  },
  {
   "cell_type": "code",
   "execution_count": null,
   "id": "b5a2ade2",
   "metadata": {},
   "outputs": [],
   "source": [
    "######## Accurate Hamiltonian Diagonalization (for the choosen sectors) #########\n",
    "esyssec_AR = GetGSFromSector( iGSSector, ntot, opcavec, opccaavec ; outputlevel=1 )"
   ]
  },
  {
   "cell_type": "code",
   "execution_count": null,
   "id": "506400de",
   "metadata": {},
   "outputs": [],
   "source": [
    "######## Boltzmann Weight #########\n",
    "# IndGSSector = [ [ isector, e0, boltzweight, evec ] ]\n",
    "ieval        = 1\n",
    "wBoltz = 1.0 \n",
    "IndGSSector = [ [ iGSSector, esyssec_AR[1][ieval], wBoltz, esyssec_AR[2][:,ieval] ] ]"
   ]
  },
  {
   "cell_type": "code",
   "execution_count": null,
   "id": "0931b46b",
   "metadata": {},
   "outputs": [],
   "source": [
    "######## Impurity Green Function Construction #########\n",
    "Gimp    = GetGreenImpurityFromGS(  nspinorb, IndGSSector[1], ntot, opcavec, opccaavec, ImFreqGrid )\n",
    "gimpup  = GetijarrayFromVecMat( Gimp, 1, 1 )\n",
    "gimpdn  = GetijarrayFromVecMat( Gimp, 2, 2 )\n",
    "\n",
    "G0imp   = GetGreenDiscGrid( ebathlnew, Vilnew, ImFreqGrid, KaiEDJ.I(nspinorb)*chem )\n",
    "g0impup = GetijarrayFromVecMat( G0imp, 1, 1 )\n",
    "g0impdn = GetijarrayFromVecMat( G0imp, 2, 2 )"
   ]
  },
  {
   "cell_type": "code",
   "execution_count": null,
   "id": "8bebb23e",
   "metadata": {},
   "outputs": [],
   "source": [
    "\n",
    "Plots.plot( ImFreqGridVal, imag(gimpup) , lt=:scatter, marker=:square, label=\"gimpup\")\n",
    "Plots.plot!( ImFreqGridVal, imag(gimpdn) , lt=:scatter, marker=:circle, label=\"gimpdn\")\n",
    "Plots.plot!( ImFreqGridVal, imag(g0impup), linewidth=2, label=\"g0impup\")\n",
    "Plots.plot!( ImFreqGridVal, imag(g0impdn), linewidth=3, line=:dash, label=\"g0impdn\")\n",
    "Plots.xlabel!(\"Imaginary Frequency\")\n",
    "Plots.ylabel!(\"Green's Function\")\n",
    "Plots.title!(\"Green's Functions on Imaginary Frequency Grid\")\n",
    "\n",
    "\n",
    "#Plots.savefig(\"14_dmft_ed_solver_bethe.png\")\n"
   ]
  },
  {
   "cell_type": "code",
   "execution_count": null,
   "id": "8b3423b6",
   "metadata": {},
   "outputs": [],
   "source": [
    "selfup  = GetSelf( g0impup, gimpup )\n",
    "selfdn  = GetSelf( g0impdn, gimpdn )\n",
    "\n",
    "G0newimp    = GetGreenImpGrid( zeros(nspinorb,nspinorb), (D*D / 2. / 2. ) * Gimp, ImFreqGrid )"
   ]
  },
  {
   "cell_type": "code",
   "execution_count": null,
   "id": "d1a0916a",
   "metadata": {},
   "outputs": [],
   "source": [
    "# using Plots\n",
    "Plots.plot( ImFreqGridVal, imag(selfup) )\n",
    "Plots.plot!( ImFreqGridVal, imag(gimpdn) , marker=:circle)\n",
    "Plots.plot!( ImFreqGridVal, imag(g0impup) , marker=:square)"
   ]
  },
  {
   "cell_type": "code",
   "execution_count": null,
   "id": "2058fb61",
   "metadata": {},
   "outputs": [],
   "source": []
  }
 ],
 "metadata": {
  "kernelspec": {
   "display_name": "Julia 1.11.3",
   "language": "julia",
   "name": "julia-1.11"
  },
  "language_info": {
   "file_extension": ".jl",
   "mimetype": "application/julia",
   "name": "julia",
   "version": "1.11.3"
  }
 },
 "nbformat": 4,
 "nbformat_minor": 5
}
