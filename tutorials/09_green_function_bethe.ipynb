{
 "cells": [
  {
   "cell_type": "markdown",
   "id": "c70e1fe2",
   "metadata": {},
   "source": [
    "# 09. Bethe lattice Green function\n",
    "\n",
    "With half-bandwidth $D=1$ (i.e. $W=2D=4t$), the Green function on the Bethe lattice can be written as follows.\n",
    "$$\n",
    "G_{Bethe} (z)=2(z+\\sqrt{1−z^2} \\cdot \\frac{\\log⁡[1−z]−\\log⁡[−1+z]}{\\pi})\n",
    "$$\n",
    "The last term represents the sign function that gives 1 or -1, for Im$z<0$ or Im$z>0$, respectively.\n",
    "\n",
    "The Bethe lattice Green function satisfies the followings.\n",
    "$$\n",
    "G_0 (z)^{-1} = z + \\mu - t^2 G(z) \n",
    "$$\n",
    "We thus can substitute the hybridization function by the interacting Green function on the Bethe lattice, i.e. \n",
    "$$\n",
    "\\Delta_{hyb}(z) \\equiv t^2 G(z) .\n",
    "$$"
   ]
  },
  {
   "cell_type": "code",
   "execution_count": 1,
   "id": "4f420d5a",
   "metadata": {
    "scrolled": false
   },
   "outputs": [
    {
     "name": "stdout",
     "output_type": "stream",
     "text": [
      "typeof(G0w) = Vector{ComplexF64}\n",
      "typeof(Hybw) = Vector{ComplexF64}\n"
     ]
    },
    {
     "data": {
      "text/plain": [
       "50-element Vector{ComplexF64}:\n",
       " -0.6626353181451904 - 0.005141118555032493im\n",
       " -0.6960240596597956 - 0.005791527968349438im\n",
       " -0.7338714288122846 - 0.0066084281077628355im\n",
       " -0.7774101394939869 - 0.007669078548510615im\n",
       " -0.8285067969462842 - 0.00911174465526995im\n",
       " -0.8902349571881256 - 0.011216228461133309im\n",
       " -0.9683612919105542 - 0.014670186069088311im\n",
       "  -1.076585449695434 - 0.02190977195522146im\n",
       " -1.2734973631664042 - 0.060509510641305664im\n",
       " -1.3732223349744168 - 0.3255621275916153im\n",
       "                     ⋮\n",
       "   2.583417359159053 - 0.25079040806820724im\n",
       "  1.8898100952165202 - 0.06756973089276337im\n",
       "  1.5802224733539905 - 0.03908077183688098im\n",
       "  1.3823657026700875 - 0.02705084253460523im\n",
       "  1.2390605403619455 - 0.02038259254188475im\n",
       "  1.1281858295709284 - 0.01615291181813818im\n",
       "  1.0387641638415734 - 0.013241203923985962im\n",
       "  0.9645337796684664 - 0.011122622998207696im\n",
       "  0.9015844153330187 - 0.009517951948724707im"
      ]
     },
     "metadata": {},
     "output_type": "display_data"
    }
   ],
   "source": [
    "# ENV[\"PROJECT_PATH_ED\"]=\"../envs/KED\"\n",
    "# include(\"../src/mybase.jl\")\n",
    "using KaiEDJ\n",
    "\n",
    "epsilon = 0.01\n",
    "\n",
    "NFreq   = 50\n",
    "ReFreqGrid      = LinRange( -1.5, 1.5, NFreq )\n",
    "ReFreqGridBroad = ReFreqGrid .+ im * epsilon\n",
    "\n",
    "G0w = GetGzBethe.( ReFreqGridBroad ) # Array{G} in Real-frequency grid\n",
    "\n",
    "Hybw    = 1. / 4 * G0w\n",
    "\n",
    "norb    = 1\n",
    "tij     = zeros(norb,norb)\n",
    "tij[1,1]= 0.2\n",
    "\n",
    "@show typeof( G0w )\n",
    "@show typeof( Hybw )\n",
    "G0wNew  = GetGreenImpGrid( tij[1,1], Hybw, ReFreqGridBroad )"
   ]
  },
  {
   "cell_type": "code",
   "execution_count": 2,
   "id": "3ba14d28",
   "metadata": {
    "scrolled": false
   },
   "outputs": [
    {
     "ename": "ArgumentError",
     "evalue": "ArgumentError: Package Plots not found in current path.\n- Run `import Pkg; Pkg.add(\"Plots\")` to install the Plots package.",
     "output_type": "error",
     "traceback": [
      "ArgumentError: Package Plots not found in current path.\n",
      "- Run `import Pkg; Pkg.add(\"Plots\")` to install the Plots package.\n",
      "\n",
      "Stacktrace:\n",
      "  [1] macro expansion\n",
      "    @ ./loading.jl:2296 [inlined]\n",
      "  [2] macro expansion\n",
      "    @ ./lock.jl:273 [inlined]\n",
      "  [3] __require(into::Module, mod::Symbol)\n",
      "    @ Base ./loading.jl:2271\n",
      "  [4] #invoke_in_world#3\n",
      "    @ ./essentials.jl:1089 [inlined]\n",
      "  [5] invoke_in_world\n",
      "    @ ./essentials.jl:1086 [inlined]\n",
      "  [6] require(into::Module, mod::Symbol)\n",
      "    @ Base ./loading.jl:2260\n",
      "  [7] eval\n",
      "    @ ./boot.jl:430 [inlined]\n",
      "  [8] include_string(mapexpr::typeof(REPL.softscope), mod::Module, code::String, filename::String)\n",
      "    @ Base ./loading.jl:2734\n",
      "  [9] #invokelatest#2\n",
      "    @ ./essentials.jl:1055 [inlined]\n",
      " [10] invokelatest\n",
      "    @ ./essentials.jl:1052 [inlined]\n",
      " [11] (::VSCodeServer.var\"#217#218\"{VSCodeServer.NotebookRunCellArguments, String})()\n",
      "    @ VSCodeServer ~/.vscode-server/extensions/julialang.language-julia-1.127.2/scripts/packages/VSCodeServer/src/serve_notebook.jl:24\n",
      " [12] withpath(f::VSCodeServer.var\"#217#218\"{VSCodeServer.NotebookRunCellArguments, String}, path::String)\n",
      "    @ VSCodeServer ~/.vscode-server/extensions/julialang.language-julia-1.127.2/scripts/packages/VSCodeServer/src/repl.jl:276\n",
      " [13] notebook_runcell_request(conn::VSCodeServer.JSONRPC.JSONRPCEndpoint{Base.PipeEndpoint, Base.PipeEndpoint}, params::VSCodeServer.NotebookRunCellArguments)\n",
      "    @ VSCodeServer ~/.vscode-server/extensions/julialang.language-julia-1.127.2/scripts/packages/VSCodeServer/src/serve_notebook.jl:13\n",
      " [14] dispatch_msg(x::VSCodeServer.JSONRPC.JSONRPCEndpoint{Base.PipeEndpoint, Base.PipeEndpoint}, dispatcher::VSCodeServer.JSONRPC.MsgDispatcher, msg::Dict{String, Any})\n",
      "    @ VSCodeServer.JSONRPC ~/.vscode-server/extensions/julialang.language-julia-1.127.2/scripts/packages/JSONRPC/src/typed.jl:67\n",
      " [15] serve_notebook(pipename::String, debugger_pipename::String, outputchannel_logger::Base.CoreLogging.SimpleLogger; error_handler::var\"#5#10\"{String})\n",
      "    @ VSCodeServer ~/.vscode-server/extensions/julialang.language-julia-1.127.2/scripts/packages/VSCodeServer/src/serve_notebook.jl:147\n",
      " [16] top-level scope\n",
      "    @ ~/.vscode-server/extensions/julialang.language-julia-1.127.2/scripts/notebook/notebook.jl:35"
     ]
    }
   ],
   "source": [
    "using Plots\n",
    "xw  = ReFreqGrid\n",
    "gw  = G0w\n",
    "gw2 = G0wNew\n",
    "plot( xw, [real(gw) imag(gw)], marker=:circle )"
   ]
  },
  {
   "cell_type": "code",
   "execution_count": 3,
   "id": "f2cb50e4",
   "metadata": {},
   "outputs": [
    {
     "ename": "UndefVarError",
     "evalue": "UndefVarError: `gw2` not defined in `Main`\nSuggestion: check for spelling errors or missing imports.",
     "output_type": "error",
     "traceback": [
      "UndefVarError: `gw2` not defined in `Main`\n",
      "Suggestion: check for spelling errors or missing imports.\n",
      "\n",
      "Stacktrace:\n",
      " [1] top-level scope\n",
      "   @ /gpfs/hongkeeyoon/workspace2/KaiED_tutorials/tutorials/jl_notebook_cell_df34fa98e69747e1a8f8a730347b8e2f_W3sdnNjb2RlLXJlbW90ZQ==.jl:2"
     ]
    }
   ],
   "source": [
    "\n",
    "plot( xw, [real(gw2) imag(gw2)], marker=:circle )"
   ]
  },
  {
   "cell_type": "code",
   "execution_count": null,
   "id": "16dafb12",
   "metadata": {},
   "outputs": [],
   "source": []
  }
 ],
 "metadata": {
  "kernelspec": {
   "display_name": "Julia 1.11.3",
   "language": "julia",
   "name": "julia-1.11"
  },
  "language_info": {
   "file_extension": ".jl",
   "mimetype": "application/julia",
   "name": "julia",
   "version": "1.11.3"
  }
 },
 "nbformat": 4,
 "nbformat_minor": 5
}
